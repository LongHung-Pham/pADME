{
  "nbformat": 4,
  "nbformat_minor": 0,
  "metadata": {
    "colab": {
      "provenance": [],
      "machine_shape": "hm"
    },
    "kernelspec": {
      "name": "python3",
      "display_name": "Python 3"
    },
    "language_info": {
      "name": "python"
    }
  },
  "cells": [
    {
      "cell_type": "markdown",
      "source": [
        "# Colab install packages"
      ],
      "metadata": {
        "id": "v41uNtLerWPH"
      }
    },
    {
      "cell_type": "code",
      "source": [
        "import torch\n",
        "print(torch.__version__)"
      ],
      "metadata": {
        "colab": {
          "base_uri": "https://localhost:8080/"
        },
        "id": "i_Xm37AfrNPF",
        "outputId": "fd514768-cb3c-4aa1-f84a-f520c2da0141"
      },
      "execution_count": 1,
      "outputs": [
        {
          "output_type": "stream",
          "name": "stdout",
          "text": [
            "2.8.0+cu126\n"
          ]
        }
      ]
    },
    {
      "cell_type": "code",
      "source": [
        "pyg_url = f\"https://data.pyg.org/whl/torch-{torch.__version__}.html\"\n",
        "!pip install pyg-lib torch-scatter torch-sparse torch-cluster torch-spline-conv torch-geometric -f $pyg_url\n",
        "!pip install rdkit"
      ],
      "metadata": {
        "id": "pAhdZb08s5bY"
      },
      "execution_count": null,
      "outputs": []
    },
    {
      "cell_type": "markdown",
      "source": [
        "# Process competition test data"
      ],
      "metadata": {
        "id": "Oe1T1jQCrbXa"
      }
    },
    {
      "cell_type": "code",
      "execution_count": 1,
      "metadata": {
        "id": "n4cTbqolq9Fb",
        "colab": {
          "base_uri": "https://localhost:8080/"
        },
        "outputId": "7a2a5bab-64e7-4d2b-a2e7-0c73108b7ddc"
      },
      "outputs": [
        {
          "output_type": "stream",
          "name": "stdout",
          "text": [
            "/content/pADME\n"
          ]
        }
      ],
      "source": [
        "!git clone https://github.com/LongHung-Pham/pADME.git\n",
        "%cd pADME"
      ]
    },
    {
      "cell_type": "code",
      "source": [
        "!wget https://zenodo.org/records/15582067/files/ADMET.csv -O data/ADMET.csv     # competition data"
      ],
      "metadata": {
        "id": "tJazIl_atlgY"
      },
      "execution_count": null,
      "outputs": []
    },
    {
      "cell_type": "code",
      "source": [
        "import pandas as pd\n",
        "import numpy as np\n",
        "\n",
        "df = pd.read_csv('data/ADMET.csv')\n",
        "df.head()"
      ],
      "metadata": {
        "colab": {
          "base_uri": "https://localhost:8080/",
          "height": 206
        },
        "id": "XKsL3ybCtokc",
        "outputId": "d364c384-6b88-4ff6-8392-8de77d350935"
      },
      "execution_count": 2,
      "outputs": [
        {
          "output_type": "execute_result",
          "data": {
            "text/plain": [
              "                                            CXSMILES  HLM   KSOL  LogD  \\\n",
              "0  COC1=CC=CC(Cl)=C1NC(=O)N1CCC[C@H](C(N)=O)C1 |a...  NaN    NaN   0.3   \n",
              "1  O=C(NCC(F)F)[C@H](NC1=CC2=C(C=C1Br)CNC2)C1=CC(...  NaN  333.0   2.9   \n",
              "2  O=C(NCC(F)F)[C@H](NC1=CC=C2CNCC2=C1)C1=CC(Br)=...  NaN    NaN   0.4   \n",
              "3  NC(=O)[C@H]1CCCN(C(=O)CC2=CC=CC3=C2C=CO3)C1 |&...  NaN  376.0   1.0   \n",
              "4   CC1=CC(CC(=O)N2CCC[C@H](C(N)=O)C2)=CC=N1 |&1:11|  NaN  375.0  -0.3   \n",
              "\n",
              "   MDR1-MDCKII  MLM Molecule Name    Set  \n",
              "0          2.0  NaN  ASAP-0032437  Train  \n",
              "1          0.2  NaN  ASAP-0031915  Train  \n",
              "2          0.5  NaN  ASAP-0031884  Train  \n",
              "3          8.5  NaN  ASAP-0031848  Train  \n",
              "4          0.9  NaN  ASAP-0031813  Train  "
            ],
            "text/html": [
              "\n",
              "  <div id=\"df-5ba86482-39f9-4592-b9d9-d3a3fdcd2d35\" class=\"colab-df-container\">\n",
              "    <div>\n",
              "<style scoped>\n",
              "    .dataframe tbody tr th:only-of-type {\n",
              "        vertical-align: middle;\n",
              "    }\n",
              "\n",
              "    .dataframe tbody tr th {\n",
              "        vertical-align: top;\n",
              "    }\n",
              "\n",
              "    .dataframe thead th {\n",
              "        text-align: right;\n",
              "    }\n",
              "</style>\n",
              "<table border=\"1\" class=\"dataframe\">\n",
              "  <thead>\n",
              "    <tr style=\"text-align: right;\">\n",
              "      <th></th>\n",
              "      <th>CXSMILES</th>\n",
              "      <th>HLM</th>\n",
              "      <th>KSOL</th>\n",
              "      <th>LogD</th>\n",
              "      <th>MDR1-MDCKII</th>\n",
              "      <th>MLM</th>\n",
              "      <th>Molecule Name</th>\n",
              "      <th>Set</th>\n",
              "    </tr>\n",
              "  </thead>\n",
              "  <tbody>\n",
              "    <tr>\n",
              "      <th>0</th>\n",
              "      <td>COC1=CC=CC(Cl)=C1NC(=O)N1CCC[C@H](C(N)=O)C1 |a...</td>\n",
              "      <td>NaN</td>\n",
              "      <td>NaN</td>\n",
              "      <td>0.3</td>\n",
              "      <td>2.0</td>\n",
              "      <td>NaN</td>\n",
              "      <td>ASAP-0032437</td>\n",
              "      <td>Train</td>\n",
              "    </tr>\n",
              "    <tr>\n",
              "      <th>1</th>\n",
              "      <td>O=C(NCC(F)F)[C@H](NC1=CC2=C(C=C1Br)CNC2)C1=CC(...</td>\n",
              "      <td>NaN</td>\n",
              "      <td>333.0</td>\n",
              "      <td>2.9</td>\n",
              "      <td>0.2</td>\n",
              "      <td>NaN</td>\n",
              "      <td>ASAP-0031915</td>\n",
              "      <td>Train</td>\n",
              "    </tr>\n",
              "    <tr>\n",
              "      <th>2</th>\n",
              "      <td>O=C(NCC(F)F)[C@H](NC1=CC=C2CNCC2=C1)C1=CC(Br)=...</td>\n",
              "      <td>NaN</td>\n",
              "      <td>NaN</td>\n",
              "      <td>0.4</td>\n",
              "      <td>0.5</td>\n",
              "      <td>NaN</td>\n",
              "      <td>ASAP-0031884</td>\n",
              "      <td>Train</td>\n",
              "    </tr>\n",
              "    <tr>\n",
              "      <th>3</th>\n",
              "      <td>NC(=O)[C@H]1CCCN(C(=O)CC2=CC=CC3=C2C=CO3)C1 |&amp;...</td>\n",
              "      <td>NaN</td>\n",
              "      <td>376.0</td>\n",
              "      <td>1.0</td>\n",
              "      <td>8.5</td>\n",
              "      <td>NaN</td>\n",
              "      <td>ASAP-0031848</td>\n",
              "      <td>Train</td>\n",
              "    </tr>\n",
              "    <tr>\n",
              "      <th>4</th>\n",
              "      <td>CC1=CC(CC(=O)N2CCC[C@H](C(N)=O)C2)=CC=N1 |&amp;1:11|</td>\n",
              "      <td>NaN</td>\n",
              "      <td>375.0</td>\n",
              "      <td>-0.3</td>\n",
              "      <td>0.9</td>\n",
              "      <td>NaN</td>\n",
              "      <td>ASAP-0031813</td>\n",
              "      <td>Train</td>\n",
              "    </tr>\n",
              "  </tbody>\n",
              "</table>\n",
              "</div>\n",
              "    <div class=\"colab-df-buttons\">\n",
              "\n",
              "  <div class=\"colab-df-container\">\n",
              "    <button class=\"colab-df-convert\" onclick=\"convertToInteractive('df-5ba86482-39f9-4592-b9d9-d3a3fdcd2d35')\"\n",
              "            title=\"Convert this dataframe to an interactive table.\"\n",
              "            style=\"display:none;\">\n",
              "\n",
              "  <svg xmlns=\"http://www.w3.org/2000/svg\" height=\"24px\" viewBox=\"0 -960 960 960\">\n",
              "    <path d=\"M120-120v-720h720v720H120Zm60-500h600v-160H180v160Zm220 220h160v-160H400v160Zm0 220h160v-160H400v160ZM180-400h160v-160H180v160Zm440 0h160v-160H620v160ZM180-180h160v-160H180v160Zm440 0h160v-160H620v160Z\"/>\n",
              "  </svg>\n",
              "    </button>\n",
              "\n",
              "  <style>\n",
              "    .colab-df-container {\n",
              "      display:flex;\n",
              "      gap: 12px;\n",
              "    }\n",
              "\n",
              "    .colab-df-convert {\n",
              "      background-color: #E8F0FE;\n",
              "      border: none;\n",
              "      border-radius: 50%;\n",
              "      cursor: pointer;\n",
              "      display: none;\n",
              "      fill: #1967D2;\n",
              "      height: 32px;\n",
              "      padding: 0 0 0 0;\n",
              "      width: 32px;\n",
              "    }\n",
              "\n",
              "    .colab-df-convert:hover {\n",
              "      background-color: #E2EBFA;\n",
              "      box-shadow: 0px 1px 2px rgba(60, 64, 67, 0.3), 0px 1px 3px 1px rgba(60, 64, 67, 0.15);\n",
              "      fill: #174EA6;\n",
              "    }\n",
              "\n",
              "    .colab-df-buttons div {\n",
              "      margin-bottom: 4px;\n",
              "    }\n",
              "\n",
              "    [theme=dark] .colab-df-convert {\n",
              "      background-color: #3B4455;\n",
              "      fill: #D2E3FC;\n",
              "    }\n",
              "\n",
              "    [theme=dark] .colab-df-convert:hover {\n",
              "      background-color: #434B5C;\n",
              "      box-shadow: 0px 1px 3px 1px rgba(0, 0, 0, 0.15);\n",
              "      filter: drop-shadow(0px 1px 2px rgba(0, 0, 0, 0.3));\n",
              "      fill: #FFFFFF;\n",
              "    }\n",
              "  </style>\n",
              "\n",
              "    <script>\n",
              "      const buttonEl =\n",
              "        document.querySelector('#df-5ba86482-39f9-4592-b9d9-d3a3fdcd2d35 button.colab-df-convert');\n",
              "      buttonEl.style.display =\n",
              "        google.colab.kernel.accessAllowed ? 'block' : 'none';\n",
              "\n",
              "      async function convertToInteractive(key) {\n",
              "        const element = document.querySelector('#df-5ba86482-39f9-4592-b9d9-d3a3fdcd2d35');\n",
              "        const dataTable =\n",
              "          await google.colab.kernel.invokeFunction('convertToInteractive',\n",
              "                                                    [key], {});\n",
              "        if (!dataTable) return;\n",
              "\n",
              "        const docLinkHtml = 'Like what you see? Visit the ' +\n",
              "          '<a target=\"_blank\" href=https://colab.research.google.com/notebooks/data_table.ipynb>data table notebook</a>'\n",
              "          + ' to learn more about interactive tables.';\n",
              "        element.innerHTML = '';\n",
              "        dataTable['output_type'] = 'display_data';\n",
              "        await google.colab.output.renderOutput(dataTable, element);\n",
              "        const docLink = document.createElement('div');\n",
              "        docLink.innerHTML = docLinkHtml;\n",
              "        element.appendChild(docLink);\n",
              "      }\n",
              "    </script>\n",
              "  </div>\n",
              "\n",
              "\n",
              "    <div id=\"df-df2fa3fe-5e3a-4b40-81a5-3dc383d6817e\">\n",
              "      <button class=\"colab-df-quickchart\" onclick=\"quickchart('df-df2fa3fe-5e3a-4b40-81a5-3dc383d6817e')\"\n",
              "                title=\"Suggest charts\"\n",
              "                style=\"display:none;\">\n",
              "\n",
              "<svg xmlns=\"http://www.w3.org/2000/svg\" height=\"24px\"viewBox=\"0 0 24 24\"\n",
              "     width=\"24px\">\n",
              "    <g>\n",
              "        <path d=\"M19 3H5c-1.1 0-2 .9-2 2v14c0 1.1.9 2 2 2h14c1.1 0 2-.9 2-2V5c0-1.1-.9-2-2-2zM9 17H7v-7h2v7zm4 0h-2V7h2v10zm4 0h-2v-4h2v4z\"/>\n",
              "    </g>\n",
              "</svg>\n",
              "      </button>\n",
              "\n",
              "<style>\n",
              "  .colab-df-quickchart {\n",
              "      --bg-color: #E8F0FE;\n",
              "      --fill-color: #1967D2;\n",
              "      --hover-bg-color: #E2EBFA;\n",
              "      --hover-fill-color: #174EA6;\n",
              "      --disabled-fill-color: #AAA;\n",
              "      --disabled-bg-color: #DDD;\n",
              "  }\n",
              "\n",
              "  [theme=dark] .colab-df-quickchart {\n",
              "      --bg-color: #3B4455;\n",
              "      --fill-color: #D2E3FC;\n",
              "      --hover-bg-color: #434B5C;\n",
              "      --hover-fill-color: #FFFFFF;\n",
              "      --disabled-bg-color: #3B4455;\n",
              "      --disabled-fill-color: #666;\n",
              "  }\n",
              "\n",
              "  .colab-df-quickchart {\n",
              "    background-color: var(--bg-color);\n",
              "    border: none;\n",
              "    border-radius: 50%;\n",
              "    cursor: pointer;\n",
              "    display: none;\n",
              "    fill: var(--fill-color);\n",
              "    height: 32px;\n",
              "    padding: 0;\n",
              "    width: 32px;\n",
              "  }\n",
              "\n",
              "  .colab-df-quickchart:hover {\n",
              "    background-color: var(--hover-bg-color);\n",
              "    box-shadow: 0 1px 2px rgba(60, 64, 67, 0.3), 0 1px 3px 1px rgba(60, 64, 67, 0.15);\n",
              "    fill: var(--button-hover-fill-color);\n",
              "  }\n",
              "\n",
              "  .colab-df-quickchart-complete:disabled,\n",
              "  .colab-df-quickchart-complete:disabled:hover {\n",
              "    background-color: var(--disabled-bg-color);\n",
              "    fill: var(--disabled-fill-color);\n",
              "    box-shadow: none;\n",
              "  }\n",
              "\n",
              "  .colab-df-spinner {\n",
              "    border: 2px solid var(--fill-color);\n",
              "    border-color: transparent;\n",
              "    border-bottom-color: var(--fill-color);\n",
              "    animation:\n",
              "      spin 1s steps(1) infinite;\n",
              "  }\n",
              "\n",
              "  @keyframes spin {\n",
              "    0% {\n",
              "      border-color: transparent;\n",
              "      border-bottom-color: var(--fill-color);\n",
              "      border-left-color: var(--fill-color);\n",
              "    }\n",
              "    20% {\n",
              "      border-color: transparent;\n",
              "      border-left-color: var(--fill-color);\n",
              "      border-top-color: var(--fill-color);\n",
              "    }\n",
              "    30% {\n",
              "      border-color: transparent;\n",
              "      border-left-color: var(--fill-color);\n",
              "      border-top-color: var(--fill-color);\n",
              "      border-right-color: var(--fill-color);\n",
              "    }\n",
              "    40% {\n",
              "      border-color: transparent;\n",
              "      border-right-color: var(--fill-color);\n",
              "      border-top-color: var(--fill-color);\n",
              "    }\n",
              "    60% {\n",
              "      border-color: transparent;\n",
              "      border-right-color: var(--fill-color);\n",
              "    }\n",
              "    80% {\n",
              "      border-color: transparent;\n",
              "      border-right-color: var(--fill-color);\n",
              "      border-bottom-color: var(--fill-color);\n",
              "    }\n",
              "    90% {\n",
              "      border-color: transparent;\n",
              "      border-bottom-color: var(--fill-color);\n",
              "    }\n",
              "  }\n",
              "</style>\n",
              "\n",
              "      <script>\n",
              "        async function quickchart(key) {\n",
              "          const quickchartButtonEl =\n",
              "            document.querySelector('#' + key + ' button');\n",
              "          quickchartButtonEl.disabled = true;  // To prevent multiple clicks.\n",
              "          quickchartButtonEl.classList.add('colab-df-spinner');\n",
              "          try {\n",
              "            const charts = await google.colab.kernel.invokeFunction(\n",
              "                'suggestCharts', [key], {});\n",
              "          } catch (error) {\n",
              "            console.error('Error during call to suggestCharts:', error);\n",
              "          }\n",
              "          quickchartButtonEl.classList.remove('colab-df-spinner');\n",
              "          quickchartButtonEl.classList.add('colab-df-quickchart-complete');\n",
              "        }\n",
              "        (() => {\n",
              "          let quickchartButtonEl =\n",
              "            document.querySelector('#df-df2fa3fe-5e3a-4b40-81a5-3dc383d6817e button');\n",
              "          quickchartButtonEl.style.display =\n",
              "            google.colab.kernel.accessAllowed ? 'block' : 'none';\n",
              "        })();\n",
              "      </script>\n",
              "    </div>\n",
              "\n",
              "    </div>\n",
              "  </div>\n"
            ],
            "application/vnd.google.colaboratory.intrinsic+json": {
              "type": "dataframe",
              "variable_name": "df",
              "summary": "{\n  \"name\": \"df\",\n  \"rows\": 560,\n  \"fields\": [\n    {\n      \"column\": \"CXSMILES\",\n      \"properties\": {\n        \"dtype\": \"string\",\n        \"num_unique_values\": 527,\n        \"samples\": [\n          \"CNCC1=CC(C2=CC3=C(N[C@H](C4=CC=C5CCCS(=O)(=O)C5=C4)C(C)C)N=CN=C3N2)=CO1 |o1:11|\",\n          \"O=C(O)C[C@H](NC(=O)C1=NC=NC2=C1C=CN2)C1=CC=C(Br)C=C1 |&1:4|\",\n          \"COC1=CC(Cl)=CC([C@H](NC2=CC=C3CNCC3=C2)C(=O)NCC(F)F)=C1 |&1:8|\"\n        ],\n        \"semantic_type\": \"\",\n        \"description\": \"\"\n      }\n    },\n    {\n      \"column\": \"HLM\",\n      \"properties\": {\n        \"dtype\": \"number\",\n        \"std\": 230.96462938882112,\n        \"min\": 0.0,\n        \"max\": 1620.0,\n        \"num_unique_values\": 289,\n        \"samples\": [\n          26.3,\n          251.0,\n          321.0\n        ],\n        \"semantic_type\": \"\",\n        \"description\": \"\"\n      }\n    },\n    {\n      \"column\": \"KSOL\",\n      \"properties\": {\n        \"dtype\": \"number\",\n        \"std\": 154.36054444974462,\n        \"min\": 2.0,\n        \"max\": 400.0,\n        \"num_unique_values\": 196,\n        \"samples\": [\n          31.0,\n          291.0,\n          180.0\n        ],\n        \"semantic_type\": \"\",\n        \"description\": \"\"\n      }\n    },\n    {\n      \"column\": \"LogD\",\n      \"properties\": {\n        \"dtype\": \"number\",\n        \"std\": 1.1562332764986165,\n        \"min\": -0.7,\n        \"max\": 4.5,\n        \"num_unique_values\": 63,\n        \"samples\": [\n          0.22,\n          0.19,\n          0.3\n        ],\n        \"semantic_type\": \"\",\n        \"description\": \"\"\n      }\n    },\n    {\n      \"column\": \"MDR1-MDCKII\",\n      \"properties\": {\n        \"dtype\": \"number\",\n        \"std\": 9.165988857973984,\n        \"min\": 0.0,\n        \"max\": 35.7,\n        \"num_unique_values\": 406,\n        \"samples\": [\n          0.94,\n          6.24,\n          4.36\n        ],\n        \"semantic_type\": \"\",\n        \"description\": \"\"\n      }\n    },\n    {\n      \"column\": \"MLM\",\n      \"properties\": {\n        \"dtype\": \"number\",\n        \"std\": 348.908311204207,\n        \"min\": 0.0,\n        \"max\": 2380.0,\n        \"num_unique_values\": 322,\n        \"samples\": [\n          165.0,\n          353.0,\n          52.0\n        ],\n        \"semantic_type\": \"\",\n        \"description\": \"\"\n      }\n    },\n    {\n      \"column\": \"Molecule Name\",\n      \"properties\": {\n        \"dtype\": \"string\",\n        \"num_unique_values\": 560,\n        \"samples\": [\n          \"ASAP-0029634\",\n          \"ASAP-0011196\",\n          \"ASAP-0017297\"\n        ],\n        \"semantic_type\": \"\",\n        \"description\": \"\"\n      }\n    },\n    {\n      \"column\": \"Set\",\n      \"properties\": {\n        \"dtype\": \"category\",\n        \"num_unique_values\": 2,\n        \"samples\": [\n          \"Test\",\n          \"Train\"\n        ],\n        \"semantic_type\": \"\",\n        \"description\": \"\"\n      }\n    }\n  ]\n}"
            }
          },
          "metadata": {},
          "execution_count": 2
        }
      ]
    },
    {
      "cell_type": "code",
      "source": [
        "test = df[df['Set'] == 'Test']\n",
        "test.to_csv('data/TEST_smiles.csv', index = False, columns = ['CXSMILES'])"
      ],
      "metadata": {
        "id": "uEnog93TtwtO"
      },
      "execution_count": 3,
      "outputs": []
    },
    {
      "cell_type": "code",
      "source": [
        "from data.datasets import PredictionDataset\n",
        "from data.data_processing import load_drug_smile\n",
        "from torch_geometric.loader import DataLoader\n",
        "\n",
        "xd, smile_graph = load_drug_smile('data/TEST_smiles.csv', smile_col_index = 0)\n",
        "test_dataset = PredictionDataset(root = 'pytorch_data', dataset = 'TEST_prediction', xd = xd, smile_graph = smile_graph)\n",
        "test_loader = DataLoader(test_dataset, batch_size = 32, shuffle = False)"
      ],
      "metadata": {
        "id": "kkvoF9bfc6Gr",
        "colab": {
          "base_uri": "https://localhost:8080/"
        },
        "outputId": "e594585e-9c7e-457f-91f5-e6db7309ced9"
      },
      "execution_count": 4,
      "outputs": [
        {
          "output_type": "stream",
          "name": "stdout",
          "text": [
            "Pre-processed data found: pytorch_data/processed/TEST_prediction.pt, loading ...\n"
          ]
        }
      ]
    },
    {
      "cell_type": "markdown",
      "source": [
        "# Run prediction (Leaderboard results)"
      ],
      "metadata": {
        "id": "pPdMI5ECigFN"
      }
    },
    {
      "cell_type": "code",
      "source": [
        "from src.model import GNN_net\n",
        "import torch\n",
        "\n",
        "target_cols = ['KSOL', 'LogD', 'HLM', 'MLM', 'MDR1-MDCKII']\n",
        "\n",
        "# This is a dict mapping a finetune dataset name ('KSOL', 'HLM', 'MLM',...) to existing prediction heads ('y_sol', 'y_clint',...)\n",
        "name_map = {'KSOL': 'y_sol', 'HLM': 'y_clint', 'MLM': 'y_clint', 'LogD': 'y_logd', 'MDR1-MDCKII': 'y_clint'}\n",
        "device = torch.device('cuda' if torch.cuda.is_available() else 'cpu')\n",
        "\n",
        "y_pred = {}\n",
        "\n",
        "for tgt in target_cols:\n",
        "    print(f'Making predictions for: {tgt}')\n",
        "\n",
        "    model = GNN_net(num_gnn_layers = 3, graph_pooling = 'attention', JK = 'last',\n",
        "                    h_dim = 256, ffn_dim = 64)\n",
        "    if torch.cuda.is_available():\n",
        "        model.load_state_dict(torch.load(f'models/leaderboard_models/best_finetuned_model_{tgt}.pt'))\n",
        "    else:\n",
        "        model.load_state_dict(torch.load(f'models/leaderboard_models/best_finetuned_model_{tgt}.pt', map_location=torch.device('cpu')))\n",
        "\n",
        "    model = model.to(device)\n",
        "    model.eval()\n",
        "\n",
        "    total_preds = torch.Tensor()\n",
        "    with torch.no_grad():\n",
        "        for data in test_loader:\n",
        "            data = data.to(device)\n",
        "            predictions = model(data)\n",
        "            total_preds = torch.cat((total_preds, predictions[name_map[tgt]].cpu().flatten()), 0)\n",
        "\n",
        "    if tgt in ['KSOL', 'HLM', 'MLM', 'MDR1-MDCKII']:\n",
        "      y_pred[tgt] = 10 ** total_preds.numpy()\n",
        "    else:\n",
        "      y_pred[tgt] = total_preds.numpy()\n",
        "    #print(y_pred[tgt])"
      ],
      "metadata": {
        "id": "FULwoumcsavJ"
      },
      "execution_count": null,
      "outputs": []
    },
    {
      "cell_type": "code",
      "source": [
        "from evaluation.admet import evaluate_admet_predictions\n",
        "\n",
        "y_true = {'MLM': test['MLM'].to_numpy(dtype=np.float32),\n",
        "          'MDR1-MDCKII': test['MDR1-MDCKII'].to_numpy(dtype=np.float32),\n",
        "          'HLM': test['HLM'].to_numpy(dtype=np.float32),\n",
        "          'KSOL': test['KSOL'].to_numpy(dtype=np.float32),\n",
        "          'LogD': test['LogD'].to_numpy(dtype=np.float32)}\n",
        "\n",
        "scores = evaluate_admet_predictions(y_true, y_pred, method_label = 'GINnet_leaderboard')\n",
        "\n",
        "for label in [\"KSOL\", \"LogD\", \"MLM\", \"HLM\", \"MDR1-MDCKII\", \"aggregated\"]:\n",
        "  current = scores[(scores['Target Label'] == label) & (scores['Metric'] == 'mean_absolute_error')]\n",
        "  mean, std = current['Score'].mean(), current['Score'].std()\n",
        "  print(f'{label}: {mean} +- {std}')"
      ],
      "metadata": {
        "colab": {
          "base_uri": "https://localhost:8080/"
        },
        "id": "k86NSfANjaai",
        "outputId": "658f1fcc-c9e3-42ce-81fa-d65c6688b5cc"
      },
      "execution_count": 8,
      "outputs": [
        {
          "output_type": "stream",
          "name": "stdout",
          "text": [
            "KSOL: 0.11239795560389756 +- 0.018238932983130594\n",
            "LogD: 0.33878970277309417 +- 0.024159105950433454\n",
            "MLM: 0.36574061146378517 +- 0.02738949683661979\n",
            "HLM: 0.35272448924183847 +- 0.022665707132711436\n",
            "MDR1-MDCKII: 0.2069622610360384 +- 0.014007537692399053\n",
            "aggregated: 0.2753230040237308 +- 0.010123638255563833\n"
          ]
        }
      ]
    },
    {
      "cell_type": "markdown",
      "source": [
        "# Run prediction (Optimized model)"
      ],
      "metadata": {
        "id": "sZh2yX42op6c"
      }
    },
    {
      "cell_type": "code",
      "source": [
        "from src.model import GNN_net\n",
        "import torch\n",
        "\n",
        "target_cols = ['KSOL', 'LogD', 'HLM', 'MLM', 'MDR1-MDCKII']\n",
        "\n",
        "# This is a dict mapping a finetune dataset name ('KSOL', 'HLM', 'MLM',...) to existing prediction heads ('y_sol', 'y_clint',...)\n",
        "name_map = {'KSOL': 'y_sol', 'HLM': 'y_hlm', 'MLM': 'y_mlm', 'LogD': 'y_logd', 'MDR1-MDCKII': 'y_mdck'}\n",
        "device = torch.device('cuda' if torch.cuda.is_available() else 'cpu')\n",
        "\n",
        "y_pred = {}\n",
        "\n",
        "for tgt in target_cols:\n",
        "    print(f'Making predictions for: {tgt}')\n",
        "\n",
        "    model = GNN_net(num_gnn_layers = 4, graph_pooling = 'attention', JK = 'last',\n",
        "                    h_dim = 512, ffn_dim = 64,\n",
        "                    task_heads = {'y_sol': 1, 'y_logd': 1, 'y_hlm': 1, 'y_mlm': 1, 'y_mdck': 1})\n",
        "    if torch.cuda.is_available():\n",
        "        model.load_state_dict(torch.load(f'models/optimized_models/best_finetuned_model_{tgt}_Novartis.pt'))\n",
        "    else:\n",
        "        model.load_state_dict(torch.load(f'models/optimized_models/best_finetuned_model_{tgt}_Novartis.pt', map_location=torch.device('cpu')))\n",
        "\n",
        "    model = model.to(device)\n",
        "    model.eval()\n",
        "\n",
        "    total_preds = torch.Tensor()\n",
        "    with torch.no_grad():\n",
        "        for data in test_loader:\n",
        "            data = data.to(device)\n",
        "            predictions = model(data)\n",
        "            total_preds = torch.cat((total_preds, predictions[name_map[tgt]].cpu().flatten()), 0)\n",
        "\n",
        "    if tgt in ['KSOL', 'HLM', 'MLM', 'MDR1-MDCKII']:\n",
        "      y_pred[tgt] = 10 ** total_preds.numpy()\n",
        "    else:\n",
        "      y_pred[tgt] = total_preds.numpy()\n",
        "    #print(y_pred[tgt])"
      ],
      "metadata": {
        "id": "7cm5xC84jac_"
      },
      "execution_count": null,
      "outputs": []
    },
    {
      "cell_type": "code",
      "source": [
        "from evaluation.admet import evaluate_admet_predictions\n",
        "\n",
        "y_true = {'MLM': test['MLM'].to_numpy(dtype=np.float32),\n",
        "          'MDR1-MDCKII': test['MDR1-MDCKII'].to_numpy(dtype=np.float32),\n",
        "          'HLM': test['HLM'].to_numpy(dtype=np.float32),\n",
        "          'KSOL': test['KSOL'].to_numpy(dtype=np.float32),\n",
        "          'LogD': test['LogD'].to_numpy(dtype=np.float32)}\n",
        "\n",
        "scores = evaluate_admet_predictions(y_true, y_pred, method_label = 'GINnet_leaderboard')\n",
        "\n",
        "for label in [\"KSOL\", \"LogD\", \"MLM\", \"HLM\", \"MDR1-MDCKII\", \"aggregated\"]:\n",
        "  current = scores[(scores['Target Label'] == label) & (scores['Metric'] == 'mean_absolute_error')]\n",
        "  mean, std = current['Score'].mean(), current['Score'].std()\n",
        "  print(f'{label}: {mean} +- {std}')"
      ],
      "metadata": {
        "colab": {
          "base_uri": "https://localhost:8080/"
        },
        "id": "DvA8N509j2bB",
        "outputId": "15f9c203-3665-4c18-c9af-ad76df1ac435"
      },
      "execution_count": null,
      "outputs": [
        {
          "output_type": "stream",
          "name": "stdout",
          "text": [
            "KSOL: 0.09794307876005769 +- 0.01868861894914095\n",
            "LogD: 0.29956936033070086 +- 0.024133632122082544\n",
            "MLM: 0.33181830966472625 +- 0.025531979512905877\n",
            "HLM: 0.36429905048012734 +- 0.030295449988248714\n",
            "MDR1-MDCKII: 0.16070003859698773 +- 0.0105406579993727\n",
            "aggregated: 0.25086596756651997 +- 0.010306512818795716\n"
          ]
        }
      ]
    },
    {
      "cell_type": "code",
      "source": [],
      "metadata": {
        "id": "ShVOdLXKtyNV"
      },
      "execution_count": null,
      "outputs": []
    }
  ]
}